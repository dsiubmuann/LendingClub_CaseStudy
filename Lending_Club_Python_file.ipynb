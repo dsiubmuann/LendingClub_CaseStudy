{
 "cells": [
  {
   "cell_type": "markdown",
   "metadata": {},
   "source": [
    "## Lending Club - Case Study\n",
    "\n",
    "#### Business Understanding"
   ]
  },
  {
   "cell_type": "markdown",
   "metadata": {},
   "source": [
    "   You work for a `consumer finance company` which specialises in lending various types of loans to urban customers. When the company receives a loan application, the company has to make a decision for loan approval based on the applicant’s profile. Two types of risks are associated with the bank’s decision:\n",
    "\n",
    "`1. If the applicant is likely to repay the loan, then not approving the loan results in a loss of business to the company`\n",
    "\n",
    "`2. If the applicant is not likely to repay the loan, i.e. s/he is likely to default, then approving the loan may lead to a financial loss for the company`\n",
    " \n",
    "The data given contains the information about past loan applicants and whether they `‘defaulted’` or not. The aim is to identify patterns which indicate if a person is likely to `default`, which may be used for taking actions such as denying the loan, reducing the amount of loan, lending (to risky applicants) at a higher interest rate, etc."
   ]
  },
  {
   "cell_type": "code",
   "execution_count": null,
   "metadata": {},
   "outputs": [],
   "source": [
    "# Importing all libraries required.\n",
    "import os\n",
    "import numpy as np\n",
    "import pandas as pd\n",
    "import matplotlib.pyplot as plt\n",
    "import seaborn as sns\n",
    "\n",
    "# set it to convert scientific values\n",
    "pd.options.display.float_format = '{:.2f}'.format \n"
   ]
  },
  {
   "cell_type": "code",
   "execution_count": null,
   "metadata": {},
   "outputs": [],
   "source": [
    "# Reading the provided .csv loan dataset file and converting the datatype into Object type, as Columns have mixed data types.\n",
    "loan = pd.read_csv('../Lending Club- Case Study/loan.csv',dtype=object)\n"
   ]
  },
  {
   "cell_type": "code",
   "execution_count": null,
   "metadata": {},
   "outputs": [],
   "source": [
    "# Rows and columns of the dataset\n",
    "loan.shape"
   ]
  },
  {
   "cell_type": "code",
   "execution_count": null,
   "metadata": {},
   "outputs": [],
   "source": [
    "loan.info() #Summary of the dataset\n",
    "\n",
    "loan.dtypes #data-types of all the columns"
   ]
  },
  {
   "cell_type": "markdown",
   "metadata": {},
   "source": [
    "#### Data Cleaning"
   ]
  },
  {
   "cell_type": "code",
   "execution_count": null,
   "metadata": {},
   "outputs": [],
   "source": [
    "# checking whether there is any duplicate data in any column based on their ID\n",
    "duplicate= loan[loan.duplicated('id')]\n",
    "duplicate.count()"
   ]
  },
  {
   "cell_type": "markdown",
   "metadata": {},
   "source": [
    "So, there is no duplicates in the entire Loan dataset."
   ]
  },
  {
   "cell_type": "code",
   "execution_count": null,
   "metadata": {},
   "outputs": [],
   "source": [
    "# Adding up the null values to check how many rows have missing values\n",
    "print('Number of empty Rows:',   loan.isnull().all(axis=1).sum())\n",
    "\n",
    "# Adding up the null values to check how many columns have missing values\n",
    "print('Number of empty Columns:',    loan.isnull().all(axis=0).sum())"
   ]
  },
  {
   "cell_type": "markdown",
   "metadata": {},
   "source": [
    "`Observation 1: There are no empty rows in the whole dataset.\n",
    " Observation 2: There are 54 columns have all missing values.`"
   ]
  },
  {
   "cell_type": "code",
   "execution_count": null,
   "metadata": {},
   "outputs": [],
   "source": [
    "# to check Which columns have null values\n",
    "loan.isnull().sum()"
   ]
  },
  {
   "cell_type": "code",
   "execution_count": null,
   "metadata": {},
   "outputs": [],
   "source": [
    "# to Drop columns where all values are null (According to data,below columns have null values in sequence)\n",
    "loan.drop(loan.iloc[:, 53:105], inplace = True, axis = 1) "
   ]
  },
  {
   "cell_type": "code",
   "execution_count": null,
   "metadata": {},
   "outputs": [],
   "source": [
    "loan"
   ]
  },
  {
   "cell_type": "code",
   "execution_count": null,
   "metadata": {},
   "outputs": [],
   "source": [
    "pd.get_option(\"display.max_columns\") #to know how much columns can be shown."
   ]
  },
  {
   "cell_type": "code",
   "execution_count": null,
   "metadata": {},
   "outputs": [],
   "source": [
    "pd.set_option(\"display.max_columns\",None) #Now every column can be seen which is good for visualization"
   ]
  },
  {
   "cell_type": "code",
   "execution_count": null,
   "metadata": {},
   "outputs": [],
   "source": [
    "loan.head()"
   ]
  },
  {
   "cell_type": "code",
   "execution_count": null,
   "metadata": {},
   "outputs": [],
   "source": [
    "#Now Dropping additional Columns that we dont need anymore having null values\n",
    "col_drop_1 = [\"member_id\",\"emp_title\",\"url\",\"desc\",\"zip_code\",\"mths_since_last_delinq\",\"mths_since_last_record\",\"next_pymnt_d\",\"mths_since_last_major_derog\",\"tax_liens\",\"tot_hi_cred_lim\",\"total_bal_ex_mort\",\"total_bc_limit\",\"total_il_high_credit_limit\"]\n",
    "loan.drop(labels = col_drop_1, axis =1, inplace=True)"
   ]
  },
  {
   "cell_type": "code",
   "execution_count": null,
   "metadata": {},
   "outputs": [],
   "source": [
    "#checking the columns are now dropped or not which are having null values as mentioned above\n",
    "loan.head()"
   ]
  },
  {
   "cell_type": "code",
   "execution_count": null,
   "metadata": {},
   "outputs": [],
   "source": [
    "loan.shape   #so now after Data cleaning, we have 45 columns left "
   ]
  },
  {
   "cell_type": "code",
   "execution_count": null,
   "metadata": {},
   "outputs": [],
   "source": [
    "#To set the emp_length column to only number format for data analysis\n",
    "loan.emp_length.fillna('0',inplace=True) #Setting all the null values of emp_length column to '0'\n",
    "\n",
    "loan['emp_length']=loan.emp_length.str.extract('(\\d+)')  #extracting all the Numbers from the emp_length column\n",
    "loan.head()"
   ]
  },
  {
   "cell_type": "code",
   "execution_count": null,
   "metadata": {},
   "outputs": [],
   "source": [
    "#Cleaning pub_rec_bankruptcies column for data analysis\n",
    "print(\"Before data cleaning: \", loan.pub_rec_bankruptcies.isnull().sum())\n",
    "\n",
    "loan.pub_rec_bankruptcies.fillna('Not Known',inplace=True) #Setting null values as 'Not Known'\n",
    "print(\"After data cleaning: \",  loan.pub_rec_bankruptcies.isnull().sum())"
   ]
  },
  {
   "cell_type": "code",
   "execution_count": null,
   "metadata": {},
   "outputs": [],
   "source": [
    "# To remove % symbol from 'int_rate' and 'revol_util' columns for future calculations ,using .strip()\n",
    "loan['int_rate'] = loan['int_rate'].str.strip('%')\n",
    "\n",
    "loan['revol_util'] = loan['revol_util'].str.strip('%')"
   ]
  },
  {
   "cell_type": "code",
   "execution_count": null,
   "metadata": {},
   "outputs": [],
   "source": [
    "loan.head(2)"
   ]
  },
  {
   "cell_type": "code",
   "execution_count": null,
   "metadata": {},
   "outputs": [],
   "source": [
    "# converting all the 'amount' columns into 'numeric data' to analyze any relation between them\n",
    "col1 = ['loan_amnt','funded_amnt','int_rate','funded_amnt_inv','installment','annual_inc','dti','emp_length','total_pymnt'] #listing out all the columns having amounts, for the conversion\n",
    "loan[col1] = loan[col1].apply(pd.to_numeric)"
   ]
  },
  {
   "cell_type": "code",
   "execution_count": null,
   "metadata": {},
   "outputs": [],
   "source": [
    "# percentages of important variable loan status in total loans issued\n",
    "(loan.loan_status.value_counts()*100)/len(loan)\n"
   ]
  },
  {
   "cell_type": "markdown",
   "metadata": {},
   "source": [
    "`Observations` <br>\n",
    "_1. 82.96 percent loans were fully paid._ <br>\n",
    "_2. Close to 14% loans were charged off_"
   ]
  },
  {
   "cell_type": "code",
   "execution_count": null,
   "metadata": {},
   "outputs": [],
   "source": [
    "#Percentages of the variable 'purpose of loan' as per total loans issued\n",
    "(loan.purpose.value_counts()*100)/len(loan)"
   ]
  },
  {
   "cell_type": "markdown",
   "metadata": {},
   "source": [
    "`Observations` <br>\n",
    "_1. Most of the loans are taken for 'debt consolidation' i.e. 47% and 'Credit card bill payment' i.e. 13% ._ <br>\n",
    "_2. 'Other' is also an important purpose of loan taken i.e. 10% ._\n",
    "\n",
    "#### Deriving Columns for Data Analysis"
   ]
  },
  {
   "cell_type": "code",
   "execution_count": null,
   "metadata": {},
   "outputs": [],
   "source": [
    "#Deriving new columns Month and Year, using existing columns such as issue date 'issue_d'\n",
    "\n",
    "loan.issue_d = pd.to_datetime(loan.issue_d, format='%b-%y') #converting to Datetime format to derive new columns\n",
    "loan['year']=loan['issue_d'].dt.year #new Year column has been added to loan dataset\n",
    "loan['month']=loan['issue_d'].dt.month  #new Month column has been added to loan dataset\n",
    "\n",
    "loan.head(2)"
   ]
  },
  {
   "cell_type": "markdown",
   "metadata": {},
   "source": [
    "`Observations` <br>\n",
    "_Two new columns Month and Year were derived from issue date column._\n",
    "\n",
    "\n",
    "#### Univariate Analysis - "
   ]
  },
  {
   "cell_type": "code",
   "execution_count": null,
   "metadata": {},
   "outputs": [],
   "source": [
    "# Basic statistical details of loan_amnt column using describe method - Quantitative Variables\n",
    "loan['loan_amnt'].describe()"
   ]
  },
  {
   "cell_type": "code",
   "execution_count": null,
   "metadata": {},
   "outputs": [],
   "source": [
    "# Ignore warnings due to version problems\n",
    "import warnings\n",
    "warnings.filterwarnings('ignore')\n",
    "\n",
    "#Plotting loan amount column using boxplot\n",
    "sns.boxplot(loan.loan_amnt)"
   ]
  },
  {
   "cell_type": "code",
   "execution_count": null,
   "metadata": {},
   "outputs": [],
   "source": [
    "# Basic statistical details of total_pymnt column using describe method - Quantitative Variables\n",
    "loan['total_pymnt'].describe()"
   ]
  },
  {
   "cell_type": "code",
   "execution_count": null,
   "metadata": {},
   "outputs": [],
   "source": [
    "#Plotting total payment column using boxplot\n",
    "sns.boxplot(loan.total_pymnt)"
   ]
  },
  {
   "cell_type": "code",
   "execution_count": null,
   "metadata": {},
   "outputs": [],
   "source": [
    "# Basic statistics details of annual_inc column - Quantitative Variables\n",
    "print('Before the removal of Outliers :',  loan['annual_inc'].describe())"
   ]
  },
  {
   "cell_type": "code",
   "execution_count": null,
   "metadata": {},
   "outputs": [],
   "source": [
    "# Removing the outliers using 0.99 quantile\n",
    "q= loan[\"annual_inc\"].quantile(0.99)   # For each of the dataframe Column we can use:\n",
    "\n",
    "#Filter with\n",
    "loan=loan[loan[\"annual_inc\"]<q]\n",
    "\n",
    "print('After the removal of Outliers :',  loan['annual_inc'].describe())"
   ]
  },
  {
   "cell_type": "code",
   "execution_count": null,
   "metadata": {},
   "outputs": [],
   "source": [
    "#Plotting annual_inc column using boxplot\n",
    "sns.boxplot(loan.annual_inc)"
   ]
  },
  {
   "cell_type": "code",
   "execution_count": null,
   "metadata": {},
   "outputs": [],
   "source": [
    "# Basic statistics details of interest rate column - Quantitative Variables\n",
    "loan['int_rate'].describe()"
   ]
  },
  {
   "cell_type": "markdown",
   "metadata": {},
   "source": [
    "_As we can see, the average interest rate is **12%** ._ <br>\n",
    "_After 75% quartile, interest rate has increased to **25%** from 15%_"
   ]
  },
  {
   "cell_type": "code",
   "execution_count": null,
   "metadata": {},
   "outputs": [],
   "source": [
    "#Plotting the int_rate column\n",
    "sns.boxplot(loan['int_rate'])\n",
    "plt.title('Interest Rate Box Plot', fontsize = 15)\n",
    "plt.xlabel('Interest Rate', fontsize = 12)\n",
    "plt.show()"
   ]
  },
  {
   "cell_type": "markdown",
   "metadata": {},
   "source": [
    "#### Correlation Matrix - Quantitative Variables :\n",
    "\n",
    "_Bivariate analysis - Finding the Correlation matrix_"
   ]
  },
  {
   "cell_type": "code",
   "execution_count": null,
   "metadata": {},
   "outputs": [],
   "source": [
    "# Plotting the Heatmap for the correlation matrix to see relation between different variables\n",
    "loan_corr = loan.corr() #to find the relation between each column in the dataset\n",
    "\n",
    "sns.set(font_scale=1.1) #changing the font size according to requirement\n",
    "\n",
    "plt.figure(figsize=[17,17]) #how big you want the figure to be\n",
    "sns.heatmap(loan_corr, cmap=\"Blues\", fmt='.2%', annot=True) #plotting of the correlation matrix using seaborn heatmap\n",
    "plt.show()"
   ]
  },
  {
   "cell_type": "markdown",
   "metadata": {},
   "source": [
    "`Observation:` <br>\n",
    "_1. Loan amount, investor amount, funding amount are strongly correlated_  <br>\n",
    "_2. Annual income with DTI(Debt-to-income ratio) is correlated negatively(that is if annual_income is high, dti(Debt-to-income) ratio is low & vice versa)_  <br>\n",
    "_3. Positive correlation between annual income and employment years, that means the income increases with work experience_"
   ]
  },
  {
   "cell_type": "code",
   "execution_count": null,
   "metadata": {},
   "outputs": [],
   "source": [
    "# Dropping other columns which are not needed for further analysis:\n",
    "col_drop_4 = [\"application_type\",\"policy_code\",\"initial_list_status\",\"installment\",\"pymnt_plan\"]\n",
    "loan.drop(labels = col_drop_4, axis =1, inplace=True)\n",
    "print(loan.shape)\n",
    "loan.isnull().sum()"
   ]
  },
  {
   "cell_type": "markdown",
   "metadata": {},
   "source": [
    "#### Derive Columns For Analysis"
   ]
  },
  {
   "cell_type": "code",
   "execution_count": null,
   "metadata": {},
   "outputs": [],
   "source": [
    "#Deriving new columns using some existing column\n",
    "# to categorise the loan_amount into ranges for bivariate analysis in future:\n",
    "loan['loan_amnt_cat'] = pd.cut(loan['loan_amnt'], [0, 7000, 14000, 21000, 28000, 35000], labels=['0-7000', '7000-14000', '14000-21000', '21000-28000', '28000 +'])\n",
    "\n",
    "# to categorise the annual_income into ranges for bivariate analysis in future:\n",
    "loan['annual_inc_cat'] = pd.cut(loan['annual_inc'], [0, 20000, 40000, 60000, 80000,1000000], labels=['0-20000', '20000-40000', '40000-60000', '60000-80000', '80000 +'])\n",
    "\n",
    "# to categorise the interest_rates into ranges for bivariate analysis in future:\n",
    "loan['int_rate_cat'] = pd.cut(loan['int_rate'], [0, 10, 12.5, 16, 20], labels=['0-10', '10-13', '12.5-16', '16 +'])\n",
    "\n",
    "# to categorise dti into ranges for bivariate analysis in future:\n",
    "loan['dti_cat'] = pd.cut(loan['dti'], [0, 5, 10, 15, 20, 25], labels=['0-5', '05-10', '10-15', '15-20', '25+'])\n"
   ]
  },
  {
   "cell_type": "code",
   "execution_count": null,
   "metadata": {},
   "outputs": [],
   "source": [
    "#checking the rows, columns and the data\n",
    "print(loan.shape)\n",
    "loan.head(1)"
   ]
  },
  {
   "cell_type": "markdown",
   "metadata": {},
   "source": [
    "`Observation` _is we have created extra 5 columns after dropping many_\n",
    "\n",
    "#### Univariate Analysis"
   ]
  },
  {
   "cell_type": "code",
   "execution_count": null,
   "metadata": {},
   "outputs": [],
   "source": [
    "# checking the distribution of the three loan amount fields(loan_amnt, funded_amnt and funded_amnt_inv),\n",
    "# using distribution plots - Quantitative Variables\n",
    "\n",
    "plt.figure(figsize=(15,8),facecolor='c')\n",
    "sns.set_style(\"whitegrid\")\n",
    "\n",
    "# subplot 1\n",
    "plt.subplot(2, 3, 1)\n",
    "ax = sns.distplot(loan['loan_amnt'],rug = True)\n",
    "ax.set_title('Loan Amount - Distribution Plot',fontsize=14,color='w')\n",
    "ax.set_xlabel('Loan Amount',fontsize=12,color='w')\n",
    "\n",
    "# subplot 2\n",
    "plt.subplot(2, 3, 2)\n",
    "ax = sns.distplot(loan['funded_amnt'],rug = True)\n",
    "ax.set_title('Funded Amount - Distribution Plot',fontsize=14,color='w')\n",
    "ax.set_xlabel('Funded Amount',fontsize=12,color='w')\n",
    "\n",
    "# subplot 3\n",
    "plt.subplot(2, 3, 3)\n",
    "ax = sns.distplot(loan['funded_amnt_inv'],rug = True)\n",
    "ax.set_title('Funded Amount Inv. - Distribution Plot',fontsize=14,color='w')\n",
    "ax.set_xlabel('Funded Amount Inv.',fontsize=12,color='w')\n",
    "plt.show()"
   ]
  },
  {
   "cell_type": "markdown",
   "metadata": {},
   "source": [
    "`Observation:` <br>\n",
    "_1. Distribution of amounts for all three looks very much similar._<br>\n",
    "_2. We will work with only loan amount column for rest of our analysis._"
   ]
  },
  {
   "cell_type": "code",
   "execution_count": null,
   "metadata": {},
   "outputs": [],
   "source": [
    "# Univariate Analysis using 'Loan amount'  -  Quantitative Variables\n",
    "\n",
    "plt.figure(figsize=(15,8),facecolor='c')\n",
    "sns.set_style(\"whitegrid\")\n",
    "\n",
    "# subplot 1 - using dist. Plot\n",
    "plt.subplot(2, 2, 1)\n",
    "ax = sns.distplot(loan['loan_amnt'],rug = True)\n",
    "ax.set_title('Loan Amount - Distribution Plot',fontsize=16,color='w')\n",
    "ax.set_xlabel('Loan Amount',fontsize=14,color='w')\n",
    "\n",
    "# subplot 2 - using Boxplot\n",
    "plt.subplot(2, 2, 2)\n",
    "ax = sns.boxplot(y=loan['loan_amnt'])\n",
    "ax.set_title('Loan Amount - Box Plot',fontsize=16,color='w')\n",
    "ax.set_ylabel('Loan Amount',fontsize=14,color='w')\n",
    "plt.show()"
   ]
  },
  {
   "cell_type": "markdown",
   "metadata": {},
   "source": [
    "`Observations :` <br>\n",
    "_From both the plots above, we can know that most of the loan_amounts are in range of 5000 - 15000_"
   ]
  },
  {
   "cell_type": "code",
   "execution_count": null,
   "metadata": {},
   "outputs": [],
   "source": [
    "# Univariate Analysis using 'Intrest Rate'  -  Quantitative Variables\n",
    "\n",
    "plt.figure(figsize=(15,8),facecolor='c')\n",
    "sns.set_style(\"whitegrid\")\n",
    "\n",
    "# subplot 1\n",
    "plt.subplot(2, 2, 1)\n",
    "ax = sns.distplot(loan['int_rate'],rug = True)\n",
    "ax.set_title('Interest Rate - Distribution Plot',fontsize=16,color='w')\n",
    "ax.set_xlabel('Interest Rate',fontsize=14,color='w')\n",
    "\n",
    "# subplot 2\n",
    "plt.subplot(2, 2, 2)\n",
    "ax = sns.boxplot(y=loan['int_rate'])\n",
    "ax.set_title('Interest Rate - Box Plot',fontsize=16,color='w')\n",
    "ax.set_ylabel('Interest Rate',fontsize=14,color='w')\n",
    "plt.show()"
   ]
  },
  {
   "cell_type": "markdown",
   "metadata": {},
   "source": [
    "`Observations :` <br>\n",
    "_From both the plots above, we can know that, most of the Interest Rates on loans are in range of 10% - 15%_"
   ]
  },
  {
   "cell_type": "code",
   "execution_count": null,
   "metadata": {},
   "outputs": [],
   "source": [
    "# Univariate Analysis using 'Annual Income' column - Quantitative Variables\n",
    "\n",
    "plt.figure(figsize=(15,8),facecolor='c')\n",
    "sns.set_style(\"whitegrid\")\n",
    "\n",
    "# subplot 1\n",
    "plt.subplot(2, 2, 1)\n",
    "ax = sns.distplot(loan['annual_inc'],rug = True)\n",
    "ax.set_title('Annual Income - Distribution Plot',fontsize=16,color='w')\n",
    "ax.set_xlabel('Annual Income',fontsize=14,color='w')\n",
    "\n",
    "# subplot 2\n",
    "plt.subplot(2, 2, 2)\n",
    "plt.title('Annual Income - Box Plot')\n",
    "ax = sns.boxplot(y=loan['annual_inc'])\n",
    "ax.set_title('Annual Income - Box Plot',fontsize=16,color='w')\n",
    "ax.set_ylabel('Annual Income',fontsize=14,color='w')\n",
    "plt.show()"
   ]
  },
  {
   "cell_type": "markdown",
   "metadata": {},
   "source": [
    "`Observations :`<br>\n",
    "_The above 2 plots show that, most of the borrower's Annual incomes are in the range of 40000 - 80000._"
   ]
  },
  {
   "cell_type": "code",
   "execution_count": null,
   "metadata": {},
   "outputs": [],
   "source": [
    "# Univariate Analysis - Unordered Categorical Variables - Loan Status\n",
    "\n",
    "plt.figure(figsize=(10,8),facecolor='c')\n",
    "sns.set_style(\"whitegrid\")\n",
    "\n",
    "ax = sns.countplot(x=\"loan_status\",data=loan,palette='mako')\n",
    "ax.set_title('Loan Status',fontsize=14,color='w')\n",
    "ax.set_xlabel('Loan Status',fontsize=14,color = 'w')\n",
    "ax.set_ylabel('Loan Application Count',fontsize=14,color = 'w')\n",
    "\n",
    "# To show count of values above bars\n",
    "s=loan['loan_status'].value_counts()\n",
    "for i, v in s.reset_index().iterrows():\n",
    "    ax.text(i, v.loan_status + 0.3 , v.loan_status, color='k')"
   ]
  },
  {
   "cell_type": "markdown",
   "metadata": {},
   "source": [
    "`Observations :` <br>\n",
    "_The above plot shows that close to 14% loans were charged off out of total loan issued._"
   ]
  },
  {
   "cell_type": "code",
   "execution_count": null,
   "metadata": {},
   "outputs": [],
   "source": [
    "# Univariate Analysis - Unordered Categorical Variables - Purpose Of Loan\n",
    "\n",
    "plt.figure(figsize=(14,8),facecolor='c')\n",
    "sns.set_style(\"whitegrid\")\n",
    "\n",
    "ax = sns.countplot(y=\"purpose\",data=loan,hue='loan_status',palette='GnBu_d')\n",
    "ax.set_title('Purpose Of Loan Plot',fontsize=14,color='w')\n",
    "ax.set_ylabel('Purpose Of Loan',fontsize=14,color = 'w')\n",
    "ax.set_xlabel('Loan Application Count',fontsize=14,color = 'w')      \n",
    "plt.show()"
   ]
  },
  {
   "cell_type": "markdown",
   "metadata": {},
   "source": [
    "`Observations :` <br>\n",
    "_The above plot shows that, most of the loans were taken for the **purpose of debt consolidation & paying credit card bill**._ <br>\n",
    "_Number of charged off count is also __high__ too for these loans._"
   ]
  },
  {
   "cell_type": "code",
   "execution_count": null,
   "metadata": {},
   "outputs": [],
   "source": [
    "# Univariate Analysis - Unordered Categorical Variables - Home Ownership\n",
    "\n",
    "plt.figure(figsize=(10,6),facecolor='c')\n",
    "\n",
    "ax = sns.countplot(x=\"home_ownership\",data=loan,hue='loan_status',palette='GnBu_d')\n",
    "ax.legend(bbox_to_anchor=(1, 1)) #to put the legend on upper right loc\n",
    "ax.set_title('Home Ownership Plot',fontsize=14,color='w')\n",
    "ax.set_xlabel('Home Ownership',fontsize=14,color = 'w')\n",
    "ax.set_ylabel('Loan Application Count',fontsize=14,color = 'w')      \n",
    "plt.show()"
   ]
  },
  {
   "cell_type": "markdown",
   "metadata": {},
   "source": [
    "`Observations :` <br>\n",
    "_The above plot shows that, most of them living in __rented home__ or in __mortgaged home__._ <br>\n",
    "_Applicant numbers are high from these 2 categories so charged-off is high too._"
   ]
  },
  {
   "cell_type": "code",
   "execution_count": null,
   "metadata": {},
   "outputs": [],
   "source": [
    "# Derived Column - Ordered Categorical Variables\n",
    "\n",
    "# Checking the number of loans which were approved in every month/year\n",
    "\n",
    "plt.figure(figsize=(14,6),facecolor='c')\n",
    "loan.groupby(['year','month']).id.count().plot(kind='bar')  # We will use derived column year to check pattern of loan issuing over the years.\n",
    "\n",
    "plt.title(\"No of loan applications issued over the years:\",fontsize=14,color='w')\n",
    "plt.ylabel('Loan applications count',fontsize=14,color='w')\n",
    "plt.xlabel('Year,Month',fontsize=14,color = 'w')      \n",
    "\n",
    "plt.show()"
   ]
  },
  {
   "cell_type": "markdown",
   "metadata": {},
   "source": [
    "`Observations: ` <br>\n",
    "_From the above Plot, count of loan application is __increasing__ every passing year._ <br>\n",
    "_So increase in number of loan applications are adding more to number of charged off applications. And number of loans issued in 2008( May-October) was dropped due to issues like recesion perhaps._"
   ]
  },
  {
   "cell_type": "code",
   "execution_count": null,
   "metadata": {},
   "outputs": [],
   "source": [
    "# Univariate Analysis - Ordered Categorical Variables- Loan Paying Term\n",
    "\n",
    "plt.figure(figsize=(10,6),facecolor='c')\n",
    "\n",
    "ax = sns.countplot(x=\"term\",data=loan,hue='loan_status',palette='GnBu_d')\n",
    "ax.set_title('Loan Paying Term',fontsize=14,color='w')\n",
    "ax.set_xlabel('Loan Repayment Term',fontsize=14,color = 'w')\n",
    "ax.set_ylabel('Loan Application Count',fontsize=14,color = 'w')      \n",
    "ax.legend(bbox_to_anchor=(1, 1))\n",
    "plt.show()"
   ]
  },
  {
   "cell_type": "markdown",
   "metadata": {},
   "source": [
    "`Observations :` <br>\n",
    "_The above plot shows that, applicants who took loan to repay in __60 months__ had more % of number of applicants getting \n",
    " __charged off__ as compared to applicants who had taken loan for __36 months__._\n",
    " \n",
    " #### Bivariate Analysis : Part 1"
   ]
  },
  {
   "cell_type": "markdown",
   "metadata": {},
   "source": [
    "`In this analysis, we will analyze the loan status against some important columns which might have played important role \n",
    "in 'charged off' of loans. Lets try to find proportion of charged offs in some categories.` <br>\n",
    "\n",
    "_To calculate the proportion of charged off loans, will follow below steps:_ <br>\n",
    "\n",
    "_1. Group loans by different variables and loan status, get the count,use .unstack() to return a DataFrame._<br>\n",
    "_2. Since we’re going to use this for further analysis, it will be helpful to use .reset_index() to clean up the index._<br>\n",
    "_3. Assign the new DataFrame to a variable._<br>\n",
    "_4. Create a simple derived column that sums charged off,current and fully paid loans for each category._<br>\n",
    "_5. Divide the number of charged off loans by the total number of loans to get the proportion of charged off loans._<br>\n",
    "_6. Store this as another derived column._<br>\n",
    "_7. Finally, output the whole table, sorted by proportion of charged off in each category issued loans._<br>"
   ]
  },
  {
   "cell_type": "code",
   "execution_count": null,
   "metadata": {},
   "outputs": [],
   "source": [
    "# Bivariate Analysis - annual income against Chargedoff_Proportion -\n",
    "\n",
    "inc_range_vs_loan = loan.groupby(['annual_inc_cat', 'loan_status']).loan_status.count().unstack().fillna(0).reset_index()\n",
    "inc_range_vs_loan['Total'] = inc_range_vs_loan['Charged Off'] + inc_range_vs_loan['Current'] + inc_range_vs_loan['Fully Paid'] \n",
    "inc_range_vs_loan['Chargedoff_Proportion'] = inc_range_vs_loan['Charged Off'] / inc_range_vs_loan['Total']\n",
    "inc_range_vs_loan.sort_values('Chargedoff_Proportion', ascending=False)"
   ]
  },
  {
   "cell_type": "markdown",
   "metadata": {},
   "source": [
    "`Observations:` <br>\n",
    "_1. Income range of __80000 above__ has __less chances__ of loans going charged off._<br>\n",
    "_2. Income range of __0-20000__ has __high chances__ of loans going charged off._<br>\n",
    "_3. Notice that with __increase__ in annual income, charged off proportion get __decreased__._"
   ]
  },
  {
   "cell_type": "code",
   "execution_count": null,
   "metadata": {},
   "outputs": [],
   "source": [
    "# To draw bar plots on the data calculated above, to visualize the pattern and to understand the data better:\n",
    "\n",
    "fig, ax1 = plt.subplots(figsize=(12, 8),facecolor='c')\n",
    "\n",
    "ax1.set_title('Annual Income vs Chargedoff Proportion',fontsize=15,color = 'w')\n",
    "ax1=sns.barplot(x='annual_inc_cat', y='Chargedoff_Proportion', data=inc_range_vs_loan)\n",
    "ax1.set_ylabel('Chargedoff Proportion',fontsize=14,color = 'w')\n",
    "ax1.set_xlabel('Annual Income',fontsize=14,color='w')\n",
    "plt.show()"
   ]
  },
  {
   "cell_type": "markdown",
   "metadata": {},
   "source": [
    "`Observations:` _(same as above)_<br>\n",
    "_1. Income range of __80000 above__ has __less chances__ of loans going charged off._<br>\n",
    "_2. Income range of __0-20000__ has __high chances__ of loans going charged off._<br>\n",
    "_3. With __increase__ in annual income, charged off proportion get __decreased__._"
   ]
  },
  {
   "cell_type": "code",
   "execution_count": null,
   "metadata": {},
   "outputs": [],
   "source": [
    "# Bivariate Analysis - purpose of Loan against Chargedoff_Proportion:\n",
    "\n",
    "purpose_vs_loan = loan.groupby(['purpose', 'loan_status']).loan_status.count().unstack().fillna(0).reset_index()\n",
    "purpose_vs_loan['Total'] = purpose_vs_loan['Charged Off'] + purpose_vs_loan['Current'] + purpose_vs_loan['Fully Paid'] \n",
    "purpose_vs_loan['Chargedoff_Proportion'] = purpose_vs_loan['Charged Off'] / purpose_vs_loan['Total']\n",
    "purpose_vs_loan.sort_values('Chargedoff_Proportion', ascending=False)"
   ]
  },
  {
   "cell_type": "markdown",
   "metadata": {},
   "source": [
    "`Observations :` <br>\n",
    "_* **small Business** applicants have **high chances** of getting charged off._<br>\n",
    "_* __renewable_energy__ where charged off proportion is __better__ as compare to other categories._"
   ]
  },
  {
   "cell_type": "code",
   "execution_count": null,
   "metadata": {},
   "outputs": [],
   "source": [
    "# Now, drawing bar plots on the data calculated above, to visualize the pattern and to understand the data better:\n",
    "\n",
    "fig, ax1 = plt.subplots(figsize=(14, 8),facecolor='c')\n",
    "\n",
    "ax1.set_title('Purpose of Loans vs Chargedoff Proportion',fontsize=15,color = 'w')\n",
    "ax1=sns.barplot(y='purpose', x='Chargedoff_Proportion', data=purpose_vs_loan)\n",
    "ax1.set_ylabel('Purpose of Loans',fontsize=14,color='w')\n",
    "ax1.set_xlabel('Chargedoff Proportion',fontsize=14,color = 'w')\n",
    "plt.show()"
   ]
  },
  {
   "cell_type": "markdown",
   "metadata": {},
   "source": [
    "`Observations :` <br>\n",
    "_* **small Business** applicants have **high chances** of getting charged off._<br>\n",
    "_* __renewable_energy__ where charged off proportion is __better__ as compare to other categories._"
   ]
  },
  {
   "cell_type": "code",
   "execution_count": null,
   "metadata": {},
   "outputs": [],
   "source": [
    "# Bivariate Analysis -  grade against Chargedoff_Proportion\n",
    "\n",
    "grade_vs_loan = loan.groupby(['grade', 'loan_status']).loan_status.count().unstack().fillna(0).reset_index()\n",
    "grade_vs_loan['Total'] = grade_vs_loan['Charged Off'] + grade_vs_loan['Current'] + grade_vs_loan['Fully Paid'] \n",
    "grade_vs_loan['Chargedoff_Proportion'] = grade_vs_loan['Charged Off'] / grade_vs_loan['Total']\n",
    "grade_vs_loan.sort_values('Chargedoff_Proportion', ascending=False)"
   ]
  },
  {
   "cell_type": "markdown",
   "metadata": {},
   "source": [
    "`Observations :` <br>\n",
    "_* Grade \"A\" has very less chances of charged off._<br>\n",
    "_* Grade \"F\" and \"G\" have very high chances of charged off._<br>\n",
    "_* Chances of charged off is increasing with grade moving from \"A\" towards \"G\"_"
   ]
  },
  {
   "cell_type": "code",
   "execution_count": null,
   "metadata": {},
   "outputs": [],
   "source": [
    "# Now, drawing bar plots on the data calculated above, to visualize the pattern and to understand the data better:\n",
    "\n",
    "fig, ax1 = plt.subplots(figsize=(14, 8),facecolor='c')\n",
    "ax1.set_title('Grades vs Chargedoff Proportion',fontsize=15,color='w')\n",
    "ax1=sns.barplot(x='grade', y='Chargedoff_Proportion', data=grade_vs_loan)\n",
    "ax1.set_xlabel('Grades',fontsize=14,color='w')\n",
    "ax1.set_ylabel('Chargedoff Proportion',fontsize=14,color ='w')\n",
    "plt.show()\n",
    "\n",
    "# Observations are same as mentioned above."
   ]
  },
  {
   "cell_type": "code",
   "execution_count": null,
   "metadata": {},
   "outputs": [],
   "source": [
    "# Checking the data about Grades - \n",
    "# Bivariate Analysis - 'sub_grade' against 'chargedoff_proportion'\n",
    "\n",
    "grade_vs_loan = loan.groupby(['sub_grade', 'loan_status']).loan_status.count().unstack().fillna(0).reset_index()\n",
    "grade_vs_loan['Total'] = grade_vs_loan['Charged Off'] + grade_vs_loan['Current'] + grade_vs_loan['Fully Paid'] \n",
    "grade_vs_loan['Chargedoff_Proportion'] = grade_vs_loan['Charged Off'] / grade_vs_loan['Total']\n",
    "grade_vs_loan.sort_values('Chargedoff_Proportion', ascending=False)"
   ]
  },
  {
   "cell_type": "markdown",
   "metadata": {},
   "source": [
    "`Observations :` <br>\n",
    "_* sub grade of __\"A\"__ has very __less chances__ of charged off._<br>\n",
    "_* sub grade of **\"F\"** and **\"G\"** have very **high chances** of charged off._<br>\n",
    "_* proportion of charged off is __increasing__ with sub grades moving from sub_grade \"A\" to \"G\"._<br>"
   ]
  },
  {
   "cell_type": "code",
   "execution_count": null,
   "metadata": {},
   "outputs": [],
   "source": [
    "# Now, drawing bar plots on the data calculated above, to visualize the pattern and to understand the data better:\n",
    "\n",
    "fig, ax1 = plt.subplots(figsize=(14, 8),facecolor='c')\n",
    "ax1.set_title('Sub Grades vs Chargedoff Proportion',fontsize=15,color='w')\n",
    "ax1=sns.barplot(x='sub_grade', y='Chargedoff_Proportion', data=grade_vs_loan)\n",
    "ax1.set_xlabel('Sub Grades',fontsize=10,color='w')\n",
    "ax1.set_ylabel('Chargedoff Proportion',fontsize=14,color = 'w')\n",
    "plt.show()\n",
    "\n",
    "# Observations are same as mentioned above."
   ]
  },
  {
   "cell_type": "code",
   "execution_count": null,
   "metadata": {},
   "outputs": [],
   "source": [
    "# Bivariate Analysis - interest rate against Chargedoff_Proportion\n",
    "\n",
    "interest_vs_loan = loan.groupby(['int_rate_cat', 'loan_status']).loan_status.count().unstack().fillna(0).reset_index()\n",
    "interest_vs_loan['Total'] = interest_vs_loan['Charged Off'] + interest_vs_loan['Current'] + interest_vs_loan['Fully Paid'] \n",
    "interest_vs_loan['Chargedoff_Proportion'] = interest_vs_loan['Charged Off'] / interest_vs_loan['Total']\n",
    "interest_vs_loan.sort_values('Chargedoff_Proportion', ascending=False)"
   ]
  },
  {
   "cell_type": "code",
   "execution_count": null,
   "metadata": {},
   "outputs": [],
   "source": [
    "# Now, drawing bar plots on the data calculated above, to visualize the pattern and to understand the data better:\n",
    "\n",
    "fig, ax1 = plt.subplots(figsize=(12, 8),facecolor='c')\n",
    "ax1.set_title('Interest Rate vs Chargedoff Proportion',fontsize=15,color='w')\n",
    "ax1=sns.barplot(x='int_rate_cat', y='Chargedoff_Proportion', data=interest_vs_loan)\n",
    "ax1.set_xlabel('Interest Rate',fontsize=14,color='w')\n",
    "ax1.set_ylabel('Chargedoff Proportion',fontsize=14,color = 'w')\n",
    "plt.show()"
   ]
  },
  {
   "cell_type": "markdown",
   "metadata": {},
   "source": [
    "`Observations :` <br>\n",
    "_* interest rate less than 10% has very less chances of charged off. Intrest rates are starting from minimum 5 %._<br>\n",
    "_* interest rate more than 16% has good chances of charged off as compared to other category interest rates._<br>\n",
    "_* Charged off proportion is increasing with higher interest rates._<br>"
   ]
  },
  {
   "cell_type": "code",
   "execution_count": null,
   "metadata": {},
   "outputs": [],
   "source": [
    "# Bivariate Analysis - employment length against Chargedoff_Proportion\n",
    "\n",
    "emplen_vs_loan = loan.groupby(['emp_length', 'loan_status']).loan_status.count().unstack().fillna(0).reset_index()\n",
    "emplen_vs_loan['Total'] = emplen_vs_loan['Charged Off'] + emplen_vs_loan['Current'] + emplen_vs_loan['Fully Paid'] \n",
    "emplen_vs_loan['Chargedoff_Proportion'] = emplen_vs_loan['Charged Off'] / emplen_vs_loan['Total']\n",
    "emplen_vs_loan.sort_values('Chargedoff_Proportion', ascending=False)"
   ]
  },
  {
   "cell_type": "code",
   "execution_count": null,
   "metadata": {},
   "outputs": [],
   "source": [
    "# Now, drawing bar plots on the data calculated above, to visualize the pattern and to understand the data better:\n",
    "\n",
    "fig, ax1 = plt.subplots(figsize=(12, 8),facecolor='c')\n",
    "ax1.set_title('Employment Length vs Chargedoff Proportion',fontsize=15,color='w')\n",
    "ax1=sns.barplot(x='emp_length', y='Chargedoff_Proportion', data=emplen_vs_loan)\n",
    "ax1.set_xlabel('Employment Length',fontsize=14,color='w')\n",
    "ax1.set_ylabel('Chargedoff Proportion',fontsize=14,color = 'w')\n",
    "plt.show()"
   ]
  },
  {
   "cell_type": "markdown",
   "metadata": {},
   "source": [
    "`Observations :` <br>\n",
    "_* Those who are not working or have less than 1 year of work experience have high chances of getting charged off._ <br>\n",
    "_* It makes sense as with less or no experience they don't have source of income to repay loan._ <br>\n",
    "_* Rest of the applicants have more or less same chances of getting charged off._ <br>"
   ]
  },
  {
   "cell_type": "code",
   "execution_count": null,
   "metadata": {},
   "outputs": [],
   "source": [
    "# Bivariate Analysis - address state against Chargedoff_Proportion\n",
    "\n",
    "state_vs_loan = loan.groupby(['addr_state', 'loan_status']).loan_status.count().unstack().fillna(0).reset_index()\n",
    "state_vs_loan['Total'] = state_vs_loan['Charged Off'] + state_vs_loan['Current'] + state_vs_loan['Fully Paid'] \n",
    "state_vs_loan['Chargedoff_Proportion'] = state_vs_loan['Charged Off'] / state_vs_loan['Total']\n",
    "state_vs_loan.sort_values('Chargedoff_Proportion', ascending=False)\n"
   ]
  },
  {
   "cell_type": "code",
   "execution_count": null,
   "metadata": {},
   "outputs": [],
   "source": [
    "# Now, drawing bar plots on the data calculated above, to visualize the pattern and to understand the data better:\n",
    "\n",
    "fig, ax1 = plt.subplots(figsize=(20, 8),facecolor='c')\n",
    "ax1.set_title('Address State vs Chargedoff Proportion',fontsize=15,color='w')\n",
    "ax1=sns.barplot(x='addr_state', y='Chargedoff_Proportion', data=state_vs_loan)\n",
    "ax1.set_xlabel('Address State',fontsize=14,color='w')\n",
    "ax1.set_ylabel('Chargedoff Proportion',fontsize=14,color = 'w')\n",
    "plt.show()"
   ]
  },
  {
   "cell_type": "markdown",
   "metadata": {},
   "source": [
    "`Observations :`<br>\n",
    "_* state **'NE'** has very high chances of charged off but number of applications are too low to make any decisions._<br>\n",
    "_* **NV,AK and FL states** shows good number of charged offs in good number of applications._<br>"
   ]
  },
  {
   "cell_type": "code",
   "execution_count": null,
   "metadata": {},
   "outputs": [],
   "source": [
    "# Bivariate Analysis - verification_status against Chargedoff_Proportion\n",
    "\n",
    "verfy_vs_loan = loan.groupby(['verification_status', 'loan_status']).loan_status.count().unstack().fillna(0).reset_index()\n",
    "verfy_vs_loan['Total'] = verfy_vs_loan['Charged Off'] + verfy_vs_loan['Current'] + verfy_vs_loan['Fully Paid'] \n",
    "verfy_vs_loan['Chargedoff_Proportion'] = verfy_vs_loan['Charged Off'] / verfy_vs_loan['Total']\n",
    "verfy_vs_loan.sort_values('Chargedoff_Proportion', ascending=False)"
   ]
  },
  {
   "cell_type": "code",
   "execution_count": null,
   "metadata": {},
   "outputs": [],
   "source": [
    "# Now, drawing bar plots on the data calculated above, to visualize the pattern and to understand the data better:\n",
    "\n",
    "fig, ax1 = plt.subplots(figsize=(12, 8),facecolor='c')\n",
    "ax1.set_title('Verification Status vs Chargedoff Proportion',fontsize=15,color='w')\n",
    "ax1=sns.barplot(x='verification_status', y='Chargedoff_Proportion', data=verfy_vs_loan)\n",
    "ax1.set_xlabel('Verification Status',fontsize=14,color='w')\n",
    "ax1.set_ylabel('Chargedoff Proportion',fontsize=14,color = 'w')\n",
    "plt.show()"
   ]
  },
  {
   "cell_type": "markdown",
   "metadata": {},
   "source": [
    "`Observations : ` <br>\n",
    "_* There is not much difference in charged off proportion._ <br>\n",
    "_* This variable doesn't provide any insights for charged off._ <br>"
   ]
  },
  {
   "cell_type": "code",
   "execution_count": null,
   "metadata": {},
   "outputs": [],
   "source": [
    "# Bivariate Analysis - Derogatory Public Record against Chargedoff_Proportion\n",
    "\n",
    "bankruptcies_vs_loan = loan.groupby(['pub_rec', 'loan_status']).loan_status.count().unstack().fillna(0).reset_index()\n",
    "bankruptcies_vs_loan['Total']=bankruptcies_vs_loan['Charged Off']+bankruptcies_vs_loan['Current']+bankruptcies_vs_loan['Fully Paid'] \n",
    "bankruptcies_vs_loan['Chargedoff_Proportion'] = bankruptcies_vs_loan['Charged Off'] / bankruptcies_vs_loan['Total']\n",
    "bankruptcies_vs_loan.sort_values('Chargedoff_Proportion', ascending=False)\n"
   ]
  },
  {
   "cell_type": "code",
   "execution_count": null,
   "metadata": {},
   "outputs": [],
   "source": [
    "# Now, drawing bar plots on the data calculated above, to visualize the pattern and to understand the data better:\n",
    "\n",
    "fig, ax1 = plt.subplots(figsize=(12, 7),facecolor='c')\n",
    "ax1.set_title('Derogatory Public Record vs Chargedoff Proportion',fontsize=15,color='w')\n",
    "ax1=sns.barplot(x='pub_rec', y='Chargedoff_Proportion', data=bankruptcies_vs_loan)\n",
    "ax1.set_xlabel('Derogatory Public Record',fontsize=14,color='w')\n",
    "ax1.set_ylabel('Chargedoff Proportion',fontsize=14,color = 'w')\n",
    "plt.show()"
   ]
  },
  {
   "cell_type": "markdown",
   "metadata": {},
   "source": [
    "`Observations:`<br>\n",
    "_* A derogatory item is an entry that may be considered negative by lenders because it indicates risk and hurts_ <br>\n",
    "_your ability to qualify for credit or other services. Public records and collections are derogatory items_ <br>\n",
    "_because they reflect financial obligations that were not paid as agreed._ <br>\n",
    "_* Those who already have pub_rec value 1 or 2 have charged off chances higher than who have no Derogatory Public Record._ <br>\n",
    "_* pub_rec count 3-4 has less numbers so cannot reach on any conclusions._\n",
    "\n",
    "\n",
    "#### Bivariate Analysis - Part 2 - "
   ]
  },
  {
   "cell_type": "code",
   "execution_count": null,
   "metadata": {},
   "outputs": [],
   "source": [
    "# Bivariate Analysis - Puprose of loan vs Loan amount - Box Plot\n",
    "\n",
    "plt.figure(figsize=(12,8),facecolor='c')\n",
    "ax = sns.boxplot(y='purpose', x='loan_amnt', data =loan,palette='rainbow')\n",
    "ax.set_title('Purpose of Loan vs Loan Amount',fontsize=15,color='w')\n",
    "ax.set_ylabel('Purpose of Loan',fontsize=14,color = 'w')\n",
    "ax.set_xlabel('Loan Amount',fontsize=14,color = 'w')\n",
    "plt.show()\n"
   ]
  },
  {
   "cell_type": "markdown",
   "metadata": {},
   "source": [
    "`Observations:`<br>\n",
    "_* Median,95th percentile,75th percentile of loan amount is highest for loan taken for small business purpose among all purposes._<br>\n",
    "_* Debt consolidation is second and Credit card comes 3rd._"
   ]
  },
  {
   "cell_type": "code",
   "execution_count": null,
   "metadata": {},
   "outputs": [],
   "source": [
    "# Bivariate Analysis - Puprose of loan vs Loan amount -  using Violin Plot\n",
    "# Violin plots show distribution of quantitative data across several levels of one (or more) categorical variables such that those distributions can be compared. \n",
    "\n",
    "plt.figure(figsize=(14,8),facecolor='c')\n",
    "ax=sns.violinplot(y='purpose', x='loan_amnt', data =loan)\n",
    "ax.set_title('Purpose of Loan vs Loan Amount',fontsize=15,color='w')\n",
    "ax.set_ylabel('Purpose of Loan',fontsize=14,color = 'w')\n",
    "ax.set_xlabel('Loan Amount',fontsize=14,color = 'w')\n",
    "plt.show()"
   ]
  },
  {
   "cell_type": "markdown",
   "metadata": {},
   "source": [
    "`Observations : `<br>\n",
    "_* Loans taken for small business purpose, Debt consolidation and Credit card are somewhat evenly distributed as compared to<br>\n",
    " loan taken for other purposes._"
   ]
  },
  {
   "cell_type": "code",
   "execution_count": null,
   "metadata": {},
   "outputs": [],
   "source": [
    "# Now, Bivariate Analysis - Term of loan vs Interest Rate - Box Plot\n",
    "\n",
    "plt.figure(figsize=(10,6),facecolor='c')\n",
    "ax = sns.boxplot(y='int_rate', x='term', data =loan,palette='rainbow')\n",
    "ax.set_title('Term of loan vs Interest Rate',fontsize=15,color='w')\n",
    "ax.set_ylabel('Interest Rate',fontsize=14,color = 'w')\n",
    "ax.set_xlabel('Term of loan',fontsize=14,color = 'w')\n",
    "plt.show()"
   ]
  },
  {
   "cell_type": "markdown",
   "metadata": {},
   "source": [
    "`Observations : `<br>\n",
    "_* It is clear that the average interest rate is higher for the __60 months__ term of loan._ <br>\n",
    "_* Most loans issued for longer term had higher interest rates during repayment._"
   ]
  },
  {
   "cell_type": "code",
   "execution_count": null,
   "metadata": {},
   "outputs": [],
   "source": [
    "# Bivariate Analysis - Purpose vs Interest Rate - Box Plot\n",
    "\n",
    "plt.figure(figsize=(14,8),facecolor='c')\n",
    "ax = sns.boxplot(x='int_rate', y='purpose', data =loan,palette='rainbow')\n",
    "ax.set_title('Purpose vs Interest Rate',fontsize=15,color='w')\n",
    "ax.set_xlabel('Interest Rate',fontsize=14,color = 'w')\n",
    "ax.set_ylabel('Purpose of Loan',fontsize=14,color = 'w')\n",
    "plt.show()"
   ]
  },
  {
   "cell_type": "markdown",
   "metadata": {},
   "source": [
    "`Observations : `<br>\n",
    "_* It is clear that avearge intrest rate is **highest** for **small business purpose**._ <br>\n",
    "_* Loans taken for small business purposes had to repay the loan with more intrest rate as compared to other._ <br>\n",
    "_* Debt consolidation is **2nd** where borrowers had to pay more interest rate._"
   ]
  },
  {
   "cell_type": "code",
   "execution_count": null,
   "metadata": {},
   "outputs": [],
   "source": [
    "# Bivariate Analysis - Grade vs Interest Rate - Box Plot\n",
    "\n",
    "plt.figure(figsize=(14,8),facecolor='c')\n",
    "ax = sns.boxplot(y='int_rate', x='grade', data =loan,palette='rainbow',order = 'ABCDEFG')\n",
    "ax.set_title('Grade vs Interest Rate',fontsize=15,color='w')\n",
    "ax.set_ylabel('Interest Rate',fontsize=14,color = 'w')\n",
    "ax.set_xlabel('Grade',fontsize=14,color = 'w')\n",
    "plt.show()"
   ]
  },
  {
   "cell_type": "markdown",
   "metadata": {},
   "source": [
    "`Observations : ` <br>\n",
    "_* A-grade is a top letter grade for a lender to assign to a borrower._<br>\n",
    "_* The higher the borrower's credit grade,the lower the interest rate offered to that borrower on a loan._<br>\n",
    "_* It is clear that intrest rate is increasing with grades moving from A to F._"
   ]
  },
  {
   "cell_type": "code",
   "execution_count": null,
   "metadata": {},
   "outputs": [],
   "source": [
    "# Now, Bivariate Analysis - Loan Amount vs Interest Rate - Box Plot\n",
    "\n",
    "plt.figure(figsize=(14,8),facecolor='c')\n",
    "ax = sns.boxplot(y='int_rate', x='loan_amnt_cat', data =loan,palette='rainbow')\n",
    "ax.set_title('Loan amount vs Interest Rate',fontsize=15,color='w')\n",
    "ax.set_ylabel('Interest Rate',fontsize=14,color = 'w')\n",
    "ax.set_xlabel('Loan Amount',fontsize=14,color = 'w')\n",
    "plt.show()"
   ]
  },
  {
   "cell_type": "markdown",
   "metadata": {},
   "source": [
    "`Observations : `<br>\n",
    "_* It is clear that intrest rate is increasing with loan amount increase._<br>\n",
    "_* probably when loan amount is more it is taken for longer loan term, we saw earlier that longer the loan term more the interest rate._"
   ]
  },
  {
   "cell_type": "code",
   "execution_count": null,
   "metadata": {},
   "outputs": [],
   "source": [
    "# Bivariate Analysis - DTI vs Interest Rate - Box Plot\n",
    "\n",
    "plt.figure(figsize=(14,8),facecolor='c')\n",
    "ax = sns.boxplot(y='int_rate', x='dti_cat', data =loan,palette='rainbow')\n",
    "ax.set_title('Debt to Income Ratio v/s Interest Rate',fontsize=15,color='w')\n",
    "ax.set_ylabel('Interest Rate',fontsize=14,color = 'w')\n",
    "ax.set_xlabel('Debt to Income Ratio',fontsize=14,color = 'w')\n",
    "plt.show()"
   ]
  },
  {
   "cell_type": "markdown",
   "metadata": {},
   "source": [
    "`Observations : ` <br>\n",
    "_* If your DTI is low enough you may get a lower interest rate._ <br>\n",
    "_* Plot shows no significant variation but there is __slight increase__ in __interest rate__ with __increase in DTI__._"
   ]
  },
  {
   "cell_type": "code",
   "execution_count": null,
   "metadata": {},
   "outputs": [],
   "source": [
    "# Bivariate Analysis - Recoveries vs Annual income - Box Plot\n",
    "\n",
    "loan['recoveries']=pd.to_numeric(loan['recoveries'],errors='coerce')\n",
    "loan_rec=loan[loan['recoveries'] > 0.00]\n",
    "\n",
    "# calculate recovery percentage \n",
    "loan_rec['recovery_prcnt']=((loan_rec['recoveries']/loan_rec['loan_amnt']) * 100) \n",
    "\n",
    "# plot\n",
    "plt.figure(figsize=(14,9),facecolor='c')\n",
    "ax=sns.boxplot(x='recovery_prcnt',y='annual_inc_cat',data=loan_rec,palette='rainbow')\n",
    "ax.set_title('Percentage of Loan Amount Recovered v/s Annual Income',fontsize=15,color = 'w')\n",
    "ax.set_ylabel('Annual income',fontsize=14,color = 'w')\n",
    "ax.set_xlabel('Percentage of loan amount recovered post Charged off',fontsize=14,color = 'w')\n",
    "plt.show()"
   ]
  },
  {
   "cell_type": "markdown",
   "metadata": {},
   "source": [
    "`Observations : ` <br>\n",
    "_* Higher percentage of __loan amount__ is recovered when __annual income is high__._ <br>\n",
    "_* Plot shows __no significant variation__ but there is __slight increase in recovery percentage__ with increase in __annual income__._"
   ]
  },
  {
   "cell_type": "code",
   "execution_count": null,
   "metadata": {},
   "outputs": [],
   "source": [
    "# Bivariate analysis - Bar Plot to see annual income variation across grade for every loan status:\n",
    "\n",
    "plt.figure(figsize=(10,6), dpi=80, facecolor='c', edgecolor='k')\n",
    "ax=sns.barplot(x='grade', y='annual_inc', hue=\"loan_status\", data=loan, estimator=np.mean,order='ABCDEFG')\n",
    "ax.set_title('Grade vs Annual income',fontsize=15,color='w')\n",
    "ax.set_ylabel('Annual income',fontsize=14,color = 'w')\n",
    "ax.set_xlabel('Grades',fontsize=14,color = 'w')\n",
    "plt.show()"
   ]
  },
  {
   "cell_type": "markdown",
   "metadata": {},
   "source": [
    "`Observations : ` <br>\n",
    "_* From this we can conclude that the ones getting **'charged off'** have lower annual incomes than the ones \n",
    "who'paid fully' <br>for each and every grade (i.e. at same interest range)_"
   ]
  },
  {
   "cell_type": "code",
   "execution_count": null,
   "metadata": {},
   "outputs": [],
   "source": [
    "# Bivariate Analysis - Year vs Interest Rate - Box Plot\n",
    "\n",
    "plt.figure(figsize=(14,8),facecolor='c')\n",
    "ax = sns.boxplot(y='int_rate', x='year', data =loan,palette='rainbow')\n",
    "ax.set_title('Year vs Interest Rate',fontsize=15,color='w')\n",
    "ax.set_ylabel('Interest Rate',fontsize=14,color = 'w')\n",
    "ax.set_xlabel('Year',fontsize=14,color = 'w')\n",
    "plt.show()"
   ]
  },
  {
   "cell_type": "markdown",
   "metadata": {},
   "source": [
    "`Observations:` <br>\n",
    "_* Plot shows __interest rate__ is increasing slowly with increase in __year__._"
   ]
  },
  {
   "cell_type": "code",
   "execution_count": 96,
   "metadata": {},
   "outputs": [
    {
     "data": {
      "text/plain": [
       "(39319, 46)"
      ]
     },
     "execution_count": 96,
     "metadata": {},
     "output_type": "execute_result"
    }
   ],
   "source": [
    "loan.shape"
   ]
  },
  {
   "cell_type": "code",
   "execution_count": null,
   "metadata": {},
   "outputs": [],
   "source": []
  }
 ],
 "metadata": {
  "kernelspec": {
   "display_name": "Python 3",
   "language": "python",
   "name": "python3"
  },
  "language_info": {
   "codemirror_mode": {
    "name": "ipython",
    "version": 3
   },
   "file_extension": ".py",
   "mimetype": "text/x-python",
   "name": "python",
   "nbconvert_exporter": "python",
   "pygments_lexer": "ipython3",
   "version": "3.8.5"
  }
 },
 "nbformat": 4,
 "nbformat_minor": 4
}
